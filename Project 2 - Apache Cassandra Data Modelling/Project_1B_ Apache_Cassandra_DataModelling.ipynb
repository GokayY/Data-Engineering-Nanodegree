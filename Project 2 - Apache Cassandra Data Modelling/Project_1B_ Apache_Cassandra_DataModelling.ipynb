{
 "cells": [
  {
   "cell_type": "markdown",
   "metadata": {
    "editable": true
   },
   "source": [
    "# Part I. ETL Pipeline for Pre-Processing the Files"
   ]
  },
  {
   "cell_type": "markdown",
   "metadata": {
    "editable": true
   },
   "source": [
    "## PLEASE RUN THE FOLLOWING CODE FOR PRE-PROCESSING THE FILES"
   ]
  },
  {
   "cell_type": "markdown",
   "metadata": {
    "editable": true
   },
   "source": [
    "#### Import Python packages "
   ]
  },
  {
   "cell_type": "code",
   "execution_count": 1,
   "metadata": {
    "editable": true
   },
   "outputs": [],
   "source": [
    "# Import Python packages \n",
    "import pandas as pd\n",
    "import cassandra\n",
    "import re\n",
    "import os\n",
    "import glob\n",
    "import numpy as np\n",
    "import json\n",
    "import csv\n",
    "import pprint"
   ]
  },
  {
   "cell_type": "markdown",
   "metadata": {
    "editable": true
   },
   "source": [
    "#### Creating list of filepaths to process original event csv data files"
   ]
  },
  {
   "cell_type": "code",
   "execution_count": 2,
   "metadata": {
    "editable": true
   },
   "outputs": [
    {
     "name": "stdout",
     "output_type": "stream",
     "text": [
      "/home/workspace\n",
      "['/home/workspace/event_data/.ipynb_checkpoints/2018-11-15-events-checkpoint.csv',\n",
      " '/home/workspace/event_data/.ipynb_checkpoints/2018-11-22-events-checkpoint.csv',\n",
      " '/home/workspace/event_data/.ipynb_checkpoints/2018-11-08-events-checkpoint.csv',\n",
      " '/home/workspace/event_data/.ipynb_checkpoints/2018-11-29-events-checkpoint.csv',\n",
      " '/home/workspace/event_data/.ipynb_checkpoints/2018-11-05-events-checkpoint.csv',\n",
      " '/home/workspace/event_data/.ipynb_checkpoints/2018-11-24-events-checkpoint.csv',\n",
      " '/home/workspace/event_data/.ipynb_checkpoints/2018-11-06-events-checkpoint.csv',\n",
      " '/home/workspace/event_data/.ipynb_checkpoints/2018-11-07-events-checkpoint.csv',\n",
      " '/home/workspace/event_data/.ipynb_checkpoints/2018-11-25-events-checkpoint.csv',\n",
      " '/home/workspace/event_data/.ipynb_checkpoints/2018-11-27-events-checkpoint.csv',\n",
      " '/home/workspace/event_data/.ipynb_checkpoints/2018-11-20-events-checkpoint.csv',\n",
      " '/home/workspace/event_data/.ipynb_checkpoints/2018-11-16-events-checkpoint.csv',\n",
      " '/home/workspace/event_data/.ipynb_checkpoints/2018-11-21-events-checkpoint.csv',\n",
      " '/home/workspace/event_data/.ipynb_checkpoints/2018-11-26-events-checkpoint.csv',\n",
      " '/home/workspace/event_data/.ipynb_checkpoints/2018-11-17-events-checkpoint.csv',\n",
      " '/home/workspace/event_data/.ipynb_checkpoints/2018-11-03-events-checkpoint.csv',\n",
      " '/home/workspace/event_data/.ipynb_checkpoints/2018-11-02-events-checkpoint.csv',\n",
      " '/home/workspace/event_data/.ipynb_checkpoints/2018-11-14-events-checkpoint.csv',\n",
      " '/home/workspace/event_data/.ipynb_checkpoints/2018-11-01-events-checkpoint.csv',\n",
      " '/home/workspace/event_data/.ipynb_checkpoints/2018-11-23-events-checkpoint.csv',\n",
      " '/home/workspace/event_data/.ipynb_checkpoints/2018-11-04-events-checkpoint.csv',\n",
      " '/home/workspace/event_data/.ipynb_checkpoints/2018-11-11-events-checkpoint.csv',\n",
      " '/home/workspace/event_data/.ipynb_checkpoints/2018-11-13-events-checkpoint.csv',\n",
      " '/home/workspace/event_data/.ipynb_checkpoints/2018-11-28-events-checkpoint.csv',\n",
      " '/home/workspace/event_data/.ipynb_checkpoints/2018-11-10-events-checkpoint.csv',\n",
      " '/home/workspace/event_data/.ipynb_checkpoints/2018-11-19-events-checkpoint.csv',\n",
      " '/home/workspace/event_data/.ipynb_checkpoints/2018-11-12-events-checkpoint.csv',\n",
      " '/home/workspace/event_data/.ipynb_checkpoints/2018-11-09-events-checkpoint.csv',\n",
      " '/home/workspace/event_data/.ipynb_checkpoints/2018-11-30-events-checkpoint.csv',\n",
      " '/home/workspace/event_data/.ipynb_checkpoints/2018-11-18-events-checkpoint.csv']\n"
     ]
    }
   ],
   "source": [
    "# checking your current working directory\n",
    "print(os.getcwd())\n",
    "\n",
    "# Get your current folder and subfolder event data\n",
    "filepath = os.getcwd() + '/event_data'\n",
    "\n",
    "# Create a for loop to create a list of files and collect each filepath\n",
    "for root, dirs, files in os.walk(filepath):\n",
    "    \n",
    "# join the file path and roots with the subdirectories using glob\n",
    "    file_path_list = glob.glob(os.path.join(root,'*'))\n",
    "pprint.pprint(file_path_list)"
   ]
  },
  {
   "cell_type": "markdown",
   "metadata": {
    "editable": true
   },
   "source": [
    "#### Processing the files to create the data file csv that will be used for Apache Casssandra tables"
   ]
  },
  {
   "cell_type": "code",
   "execution_count": 3,
   "metadata": {
    "editable": true
   },
   "outputs": [
    {
     "name": "stdout",
     "output_type": "stream",
     "text": [
      "8056\n"
     ]
    }
   ],
   "source": [
    "# initiating an empty list of rows that will be generated from each file\n",
    "full_data_rows_list = [] \n",
    "    \n",
    "# for every filepath in the file path list \n",
    "for f in file_path_list:\n",
    "\n",
    "# reading csv file \n",
    "    with open(f, 'r', encoding = 'utf8', newline='') as csvfile: \n",
    "        # creating a csv reader object \n",
    "        csvreader = csv.reader(csvfile) \n",
    "        next(csvreader)\n",
    "        \n",
    "        \n",
    "# extracting each data row one by one and append it        \n",
    "        for line in csvreader:\n",
    "            #print(line)\n",
    "            full_data_rows_list.append(line) \n",
    "            \n",
    "# uncomment the code below if you would like to get total number of rows \n",
    "print(len(full_data_rows_list))\n",
    "# uncomment the code below if you would like to check to see what the list of event data rows will look like\n",
    "#print(full_data_rows_list)\n",
    "\n",
    "# creating a smaller event data csv file called event_datafile_full csv that will be used to insert data into the \\\n",
    "# Apache Cassandra tables\n",
    "csv.register_dialect('myDialect', quoting=csv.QUOTE_ALL, skipinitialspace=True)\n",
    "\n",
    "with open('event_datafile_new.csv', 'w', encoding = 'utf8', newline='') as f:\n",
    "    writer = csv.writer(f, dialect='myDialect')\n",
    "    writer.writerow(['artist','firstName','gender','itemInSession','lastName','length',\\\n",
    "                'level','location','sessionId','song','userId'])\n",
    "    for row in full_data_rows_list:\n",
    "        if (row[0] == ''):\n",
    "            continue\n",
    "        writer.writerow((row[0], row[2], row[3], row[4], row[5], row[6], row[7], row[8], row[12], row[13], row[16]))\n"
   ]
  },
  {
   "cell_type": "code",
   "execution_count": 4,
   "metadata": {
    "editable": true
   },
   "outputs": [
    {
     "name": "stdout",
     "output_type": "stream",
     "text": [
      "6821\n"
     ]
    }
   ],
   "source": [
    "# check the number of rows in your csv file\n",
    "with open('event_datafile_new.csv', 'r', encoding = 'utf8') as f:\n",
    "    print(sum(1 for line in f))"
   ]
  },
  {
   "cell_type": "markdown",
   "metadata": {
    "editable": true
   },
   "source": [
    "# Part II. Complete the Apache Cassandra coding portion of your project. \n",
    "\n",
    "## Now you are ready to work with the CSV file titled <font color=red>event_datafile_new.csv</font>, located within the Workspace directory.  The event_datafile_new.csv contains the following columns: \n",
    "- artist \n",
    "- firstName of user\n",
    "- gender of user\n",
    "- item number in session\n",
    "- last name of user\n",
    "- length of the song\n",
    "- level (paid or free song)\n",
    "- location of the user\n",
    "- sessionId\n",
    "- song title\n",
    "- userId\n",
    "\n",
    "The image below is a screenshot of what the denormalized data should appear like in the <font color=red>**event_datafile_new.csv**</font> after the code above is run:<br>\n",
    "\n",
    "<img src=\"images/image_event_datafile_new.jpg\">"
   ]
  },
  {
   "cell_type": "markdown",
   "metadata": {
    "editable": true
   },
   "source": [
    "## Begin writing your Apache Cassandra code in the cells below"
   ]
  },
  {
   "cell_type": "markdown",
   "metadata": {
    "editable": true
   },
   "source": [
    "#### Creating a Cluster"
   ]
  },
  {
   "cell_type": "code",
   "execution_count": 5,
   "metadata": {
    "editable": true
   },
   "outputs": [],
   "source": [
    "# This should make a connection to a Cassandra instance your local machine \n",
    "# (127.0.0.1)\n",
    "\n",
    "from cassandra.cluster import Cluster\n",
    "cluster = Cluster(['127.0.0.1'])\n",
    "\n",
    "# To establish connection and begin executing queries, need a session\n",
    "session = cluster.connect()"
   ]
  },
  {
   "cell_type": "markdown",
   "metadata": {
    "editable": true
   },
   "source": [
    "#### Create Keyspace"
   ]
  },
  {
   "cell_type": "code",
   "execution_count": 6,
   "metadata": {
    "editable": true
   },
   "outputs": [],
   "source": [
    "# TO-DO: Create a Keyspace \n",
    "try:\n",
    "    session.execute(\"\"\"CREATE KEYSPACE IF NOT EXISTS udacity \n",
    "                    WITH REPLICATION = \n",
    "                    {'class' : 'SimpleStrategy', 'replication_factor' : 1}\"\"\")\n",
    "except Exception as e:\n",
    "    print(e)"
   ]
  },
  {
   "cell_type": "markdown",
   "metadata": {
    "editable": true
   },
   "source": [
    "#### Set Keyspace"
   ]
  },
  {
   "cell_type": "code",
   "execution_count": 7,
   "metadata": {
    "editable": true
   },
   "outputs": [],
   "source": [
    "# TO-DO: Set KEYSPACE to the keyspace specified above\n",
    "try:\n",
    "    session.set_keyspace('udacity')\n",
    "except Exception as e:\n",
    "    print(e)"
   ]
  },
  {
   "cell_type": "markdown",
   "metadata": {
    "editable": true
   },
   "source": [
    "### Now we need to create tables to run the following queries. Remember, with Apache Cassandra you model the database tables on the queries you want to run."
   ]
  },
  {
   "cell_type": "markdown",
   "metadata": {
    "editable": true
   },
   "source": [
    "## Create queries to ask the following three questions of the data\n",
    "\n",
    "### 1. Give me the artist, song title and song's length in the music app history that was heard during  sessionId = 338, and itemInSession  = 4\n",
    "\n",
    "\n",
    "### 2. Give me only the following: name of artist, song (sorted by itemInSession) and user (first and last name) for userid = 10, sessionid = 182\n",
    "    \n",
    "\n",
    "### 3. Give me every user name (first and last) in my music app history who listened to the song 'All Hands Against His Own'\n",
    "\n",
    "\n"
   ]
  },
  {
   "cell_type": "markdown",
   "metadata": {
    "editable": true
   },
   "source": [
    "## Answers"
   ]
  },
  {
   "cell_type": "markdown",
   "metadata": {
    "editable": true
   },
   "source": [
    "- Select statements are being created before the table creation to be able to identify primary key(partition key) and clustering keys. \n",
    "- For the data modelling, the conditions in the where clause are selected as primary keys for partitioning. \n",
    "- For the user_app_history table (question2), the clustering key being used for itemInSession column in order to have the sort of the songs.\n",
    "- itemInSession column is added into the query for the evaluation of the question.\n",
    "- For data extraction from the csv files, two options are being used. (I/O operation and Pandas dataframe)"
   ]
  },
  {
   "cell_type": "code",
   "execution_count": 8,
   "metadata": {
    "editable": true
   },
   "outputs": [],
   "source": [
    "# SELECT statements for the result check\n",
    "\n",
    "select_query1 = \"SELECT artist, song_title, song_length \\\n",
    "                 FROM app_history \\\n",
    "                 WHERE sessionId = 338 and itemInSession = 4\" \n",
    "\n",
    "select_query2 = \"SELECT artist, song_title, name, sessionId, iteminsession \\\n",
    "                 FROM user_app_history \\\n",
    "                 WHERE userid = 10 and sessionId = 182\"\n",
    "\n",
    "select_query3 =  \"SELECT name \\\n",
    "                  FROM user_song_history \\\n",
    "                  WHERE song_title = 'All Hands Against His Own'\""
   ]
  },
  {
   "cell_type": "code",
   "execution_count": 9,
   "metadata": {
    "editable": true
   },
   "outputs": [],
   "source": [
    "# Creating Cassandra Tables \n",
    "create_query1 = \"CREATE TABLE IF NOT EXISTS app_history ( artist text, \\\n",
    "                                                          song_title text, \\\n",
    "                                                          song_length double, \\\n",
    "                                                          sessionId int, \\\n",
    "                                                          itemInSession int, \\\n",
    "                                                          PRIMARY KEY (sessionId, itemInSession))\"\n",
    "\n",
    "create_query2 = \"CREATE TABLE IF NOT EXISTS user_app_history ( userId int, \\\n",
    "                                                               name text, \\\n",
    "                                                               artist text, \\\n",
    "                                                               song_title text, \\\n",
    "                                                               sessionId int, \\\n",
    "                                                               itemInSession int, \\\n",
    "                                                               PRIMARY KEY ((userId, sessionId), itemInSession))\" \n",
    "\n",
    "create_query3 = \"CREATE TABLE IF NOT EXISTS user_song_history ( name text, \\\n",
    "                                                                song_title text, \\\n",
    "                                                                PRIMARY KEY (song_title))\"\n",
    "\n",
    "create_query_list = [create_query1, create_query2, create_query3]\n",
    "\n",
    "for query in create_query_list:\n",
    "    try:\n",
    "        session.execute(query)\n",
    "    except Exception as e:\n",
    "        print(e)"
   ]
  },
  {
   "cell_type": "code",
   "execution_count": 10,
   "metadata": {
    "editable": true
   },
   "outputs": [
    {
     "data": {
      "text/html": [
       "<div>\n",
       "<style scoped>\n",
       "    .dataframe tbody tr th:only-of-type {\n",
       "        vertical-align: middle;\n",
       "    }\n",
       "\n",
       "    .dataframe tbody tr th {\n",
       "        vertical-align: top;\n",
       "    }\n",
       "\n",
       "    .dataframe thead th {\n",
       "        text-align: right;\n",
       "    }\n",
       "</style>\n",
       "<table border=\"1\" class=\"dataframe\">\n",
       "  <thead>\n",
       "    <tr style=\"text-align: right;\">\n",
       "      <th></th>\n",
       "      <th>artist</th>\n",
       "      <th>gender</th>\n",
       "      <th>itemInSession</th>\n",
       "      <th>length</th>\n",
       "      <th>level</th>\n",
       "      <th>location</th>\n",
       "      <th>sessionId</th>\n",
       "      <th>song</th>\n",
       "      <th>userId</th>\n",
       "      <th>name</th>\n",
       "    </tr>\n",
       "  </thead>\n",
       "  <tbody>\n",
       "    <tr>\n",
       "      <th>0</th>\n",
       "      <td>Harmonia</td>\n",
       "      <td>M</td>\n",
       "      <td>0</td>\n",
       "      <td>655.77751</td>\n",
       "      <td>free</td>\n",
       "      <td>San Jose-Sunnyvale-Santa Clara, CA</td>\n",
       "      <td>583</td>\n",
       "      <td>Sehr kosmisch</td>\n",
       "      <td>26</td>\n",
       "      <td>Ryan Smith</td>\n",
       "    </tr>\n",
       "    <tr>\n",
       "      <th>1</th>\n",
       "      <td>The Prodigy</td>\n",
       "      <td>M</td>\n",
       "      <td>1</td>\n",
       "      <td>260.07465</td>\n",
       "      <td>free</td>\n",
       "      <td>San Jose-Sunnyvale-Santa Clara, CA</td>\n",
       "      <td>583</td>\n",
       "      <td>The Big Gundown</td>\n",
       "      <td>26</td>\n",
       "      <td>Ryan Smith</td>\n",
       "    </tr>\n",
       "    <tr>\n",
       "      <th>2</th>\n",
       "      <td>Train</td>\n",
       "      <td>M</td>\n",
       "      <td>2</td>\n",
       "      <td>205.45261</td>\n",
       "      <td>free</td>\n",
       "      <td>San Jose-Sunnyvale-Santa Clara, CA</td>\n",
       "      <td>583</td>\n",
       "      <td>Marry Me</td>\n",
       "      <td>26</td>\n",
       "      <td>Ryan Smith</td>\n",
       "    </tr>\n",
       "    <tr>\n",
       "      <th>3</th>\n",
       "      <td>Sony Wonder</td>\n",
       "      <td>M</td>\n",
       "      <td>0</td>\n",
       "      <td>218.06975</td>\n",
       "      <td>free</td>\n",
       "      <td>Houston-The Woodlands-Sugar Land, TX</td>\n",
       "      <td>597</td>\n",
       "      <td>Blackbird</td>\n",
       "      <td>61</td>\n",
       "      <td>Samuel Gonzalez</td>\n",
       "    </tr>\n",
       "    <tr>\n",
       "      <th>4</th>\n",
       "      <td>Van Halen</td>\n",
       "      <td>F</td>\n",
       "      <td>2</td>\n",
       "      <td>289.38404</td>\n",
       "      <td>paid</td>\n",
       "      <td>Portland-South Portland, ME</td>\n",
       "      <td>602</td>\n",
       "      <td>Best Of Both Worlds (Remastered Album Version)</td>\n",
       "      <td>80</td>\n",
       "      <td>Tegan Levine</td>\n",
       "    </tr>\n",
       "  </tbody>\n",
       "</table>\n",
       "</div>"
      ],
      "text/plain": [
       "        artist gender  itemInSession     length level  \\\n",
       "0     Harmonia      M              0  655.77751  free   \n",
       "1  The Prodigy      M              1  260.07465  free   \n",
       "2        Train      M              2  205.45261  free   \n",
       "3  Sony Wonder      M              0  218.06975  free   \n",
       "4    Van Halen      F              2  289.38404  paid   \n",
       "\n",
       "                               location  sessionId  \\\n",
       "0    San Jose-Sunnyvale-Santa Clara, CA        583   \n",
       "1    San Jose-Sunnyvale-Santa Clara, CA        583   \n",
       "2    San Jose-Sunnyvale-Santa Clara, CA        583   \n",
       "3  Houston-The Woodlands-Sugar Land, TX        597   \n",
       "4           Portland-South Portland, ME        602   \n",
       "\n",
       "                                             song  userId             name  \n",
       "0                                   Sehr kosmisch      26       Ryan Smith  \n",
       "1                                 The Big Gundown      26       Ryan Smith  \n",
       "2                                        Marry Me      26       Ryan Smith  \n",
       "3                                       Blackbird      61  Samuel Gonzalez  \n",
       "4  Best Of Both Worlds (Remastered Album Version)      80     Tegan Levine  "
      ]
     },
     "execution_count": 10,
     "metadata": {},
     "output_type": "execute_result"
    }
   ],
   "source": [
    "# We have provided part of the code to set up the CSV file. Please complete the Apache Cassandra code below#\n",
    "file = 'event_datafile_new.csv'\n",
    "\n",
    "# Using pandas dataframe not to use i/o multiple times in three process\n",
    "data = pd.read_csv(r\"event_datafile_new.csv\")\n",
    "\n",
    "data['name'] = data['firstName'] + \" \" + data['lastName']\n",
    "data = data.drop(['firstName','lastName'], axis = 1)\n",
    "data.head()"
   ]
  },
  {
   "cell_type": "code",
   "execution_count": 11,
   "metadata": {
    "editable": true
   },
   "outputs": [],
   "source": [
    "for row in data.itertuples():\n",
    "    query = \"INSERT INTO app_history (artist, song_title, song_length, sessionId, itemInSession)\"\n",
    "    query = query + \"VALUES (%s, %s, %s, %s, %s)\"\n",
    "    session.execute(query, (row[1], row[8], row[4], row[7], row[3]))\n",
    "    \n",
    "# with open(file, encoding = 'utf8') as f:\n",
    "#     csvreader = csv.reader(f)\n",
    "#     next(csvreader) # skip header\n",
    "#     for line in csvreader:\n",
    "# ## TO-DO: Assign the INSERT statements into the `query` variable\n",
    "#         query = \"INSERT INTO app_history (artist, song_title, song_length, sessionId, itemInSession)\"\n",
    "#         query = query + \"VALUES (%s, %s, %s, %s, %s)\"\n",
    "#         # TO-DO: Assign which column element should be assigned for each column in the INSERT statement.\n",
    "#         # For e.g., to INSERT artist_name and user first_name, you would change the code below to `line[0], line[1]`\n",
    "#         session.execute(query, (line[0], line[9], float(line[5]), int(line[8]), int(line[3])))"
   ]
  },
  {
   "cell_type": "markdown",
   "metadata": {
    "editable": true
   },
   "source": [
    "#### Do a SELECT to verify that the data have been inserted into each table"
   ]
  },
  {
   "cell_type": "code",
   "execution_count": 12,
   "metadata": {
    "editable": true
   },
   "outputs": [
    {
     "name": "stdout",
     "output_type": "stream",
     "text": [
      "Faithless Music Matters (Mark Knight Dub) 495.3073\n"
     ]
    }
   ],
   "source": [
    "## TO-DO: Add in the SELECT statement to verify the data was entered into the table\n",
    "try:\n",
    "    rows1 = session.execute(select_query1)\n",
    "except Exception as e:\n",
    "    print(e)\n",
    "    \n",
    "for row in rows1:\n",
    "    print(row.artist, row.song_title, row.song_length)"
   ]
  },
  {
   "cell_type": "markdown",
   "metadata": {
    "editable": true
   },
   "source": [
    "### COPY AND REPEAT THE ABOVE THREE CELLS FOR EACH OF THE THREE QUESTIONS"
   ]
  },
  {
   "cell_type": "code",
   "execution_count": 13,
   "metadata": {
    "editable": true
   },
   "outputs": [],
   "source": [
    "## TO-DO: Query 2: Give me only the following: name of artist, song (sorted by itemInSession) and user (first and last name)\\\n",
    "## for userid = 10, sessionid = 182\n",
    "\n",
    "for row in data.itertuples():\n",
    "    query = \"INSERT INTO user_app_history (userId, name, artist, song_title, sessionId, itemInSession)\"\n",
    "    query = query + \"VALUES (%s, %s, %s, %s, %s, %s)\"\n",
    "    session.execute(query, (row[9], row[10] ,row[1], row[8], row[7], row[3]))\n",
    "\n",
    "# with open(file, encoding = 'utf8') as f:\n",
    "#     csvreader = csv.reader(f)\n",
    "#     next(csvreader)\n",
    "#     for line in csvreader:\n",
    "#         query = \"INSERT INTO user_app_history (userId, name, artist, song_title, sessionId, itemInSession)\"\n",
    "#         query = query + \" VALUES (%s, %s, %s, %s, %s, %s)\"\n",
    "#         session.execute(query, (int(line[10]), \"{} {}\".format(line[1], line[4]), line[0], line[9], int(line[8]), int(line[3])))"
   ]
  },
  {
   "cell_type": "code",
   "execution_count": 14,
   "metadata": {
    "editable": true
   },
   "outputs": [
    {
     "name": "stdout",
     "output_type": "stream",
     "text": [
      "Down To The Bone Keep On Keepin' On Sylvie Cruz\n",
      "Three Drives Greece 2000 Sylvie Cruz\n",
      "Sebastien Tellier Kilometer Sylvie Cruz\n",
      "Lonnie Gordon Catch You Baby (Steve Pitron & Max Sanna Radio Edit) Sylvie Cruz\n"
     ]
    }
   ],
   "source": [
    "## TO-DO: Add in the SELECT statement to verify the data was entered into the table\n",
    "try:\n",
    "    rows2 = session.execute(select_query2)\n",
    "except Exception as e:\n",
    "    print(e)\n",
    "\n",
    "for row in rows2:\n",
    "    print(row.artist, row.song_title, row.name)"
   ]
  },
  {
   "cell_type": "code",
   "execution_count": 15,
   "metadata": {
    "editable": true
   },
   "outputs": [],
   "source": [
    "## TO-DO: Query 3: Give me every user name (first and last) in my music app history who listened to the song 'All Hands Against His Own'\n",
    "\n",
    "for row in data.itertuples():\n",
    "    query = \"INSERT INTO user_song_history (name, song_title)\"\n",
    "    query = query + \" VALUES (%s, %s)\"\n",
    "    session.execute(query, (row[10], row[8]))\n",
    "\n",
    "# with open(file, encoding = 'utf8') as f:\n",
    "#     csvreader = csv.reader(f)\n",
    "#     next(csvreader)\n",
    "#     for line in csvreader:\n",
    "#         query = \"INSERT INTO user_song_history (name, song_title)\"\n",
    "#         query = query + \" VALUES (%s, %s)\"\n",
    "#         session.execute(query, (\"{} {}\".format(line[1], line[4]), line[9]))"
   ]
  },
  {
   "cell_type": "code",
   "execution_count": 16,
   "metadata": {
    "editable": true
   },
   "outputs": [
    {
     "name": "stdout",
     "output_type": "stream",
     "text": [
      "Jacqueline Lynch\n"
     ]
    }
   ],
   "source": [
    "## TO-DO: Add in the SELECT statement to verify the data was entered into the table\n",
    "try:\n",
    "    rows3 = session.execute(select_query3)\n",
    "except Exception as e:\n",
    "    print(e)\n",
    "\n",
    "for row in rows3:\n",
    "    print(row.name)"
   ]
  },
  {
   "cell_type": "markdown",
   "metadata": {
    "editable": true
   },
   "source": [
    "### Drop the tables before closing out the sessions"
   ]
  },
  {
   "cell_type": "code",
   "execution_count": 17,
   "metadata": {
    "editable": true
   },
   "outputs": [
    {
     "data": {
      "text/plain": [
       "<cassandra.cluster.ResultSet at 0x7f8dad15cfd0>"
      ]
     },
     "execution_count": 17,
     "metadata": {},
     "output_type": "execute_result"
    }
   ],
   "source": [
    "## TO-DO: Drop the table before closing out the sessions\n",
    "session.execute(\"DROP TABLE app_history\")\n",
    "session.execute(\"DROP TABLE user_app_history\")\n",
    "session.execute(\"DROP TABLE user_song_history \")"
   ]
  },
  {
   "cell_type": "markdown",
   "metadata": {
    "editable": true
   },
   "source": [
    "### Close the session and cluster connection¶"
   ]
  },
  {
   "cell_type": "code",
   "execution_count": 18,
   "metadata": {
    "editable": true
   },
   "outputs": [],
   "source": [
    "session.shutdown()\n",
    "cluster.shutdown()"
   ]
  }
 ],
 "metadata": {
  "kernelspec": {
   "display_name": "Python 3",
   "language": "python",
   "name": "python3"
  },
  "language_info": {
   "codemirror_mode": {
    "name": "ipython",
    "version": 3
   },
   "file_extension": ".py",
   "mimetype": "text/x-python",
   "name": "python",
   "nbconvert_exporter": "python",
   "pygments_lexer": "ipython3",
   "version": "3.6.3"
  }
 },
 "nbformat": 4,
 "nbformat_minor": 4
}
